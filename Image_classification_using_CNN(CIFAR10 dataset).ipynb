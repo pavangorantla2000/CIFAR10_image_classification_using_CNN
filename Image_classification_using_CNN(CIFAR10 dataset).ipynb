{
 "cells": [
  {
   "cell_type": "code",
   "execution_count": 1,
   "id": "63ff308e",
   "metadata": {},
   "outputs": [],
   "source": [
    "import tensorflow as tf\n",
    "import numpy as np\n",
    "import matplotlib.pyplot as plt\n",
    "%matplotlib inline"
   ]
  },
  {
   "cell_type": "code",
   "execution_count": 4,
   "id": "829da1a0",
   "metadata": {},
   "outputs": [
    {
     "data": {
      "text/plain": [
       "(50000, 32, 32, 3)"
      ]
     },
     "execution_count": 4,
     "metadata": {},
     "output_type": "execute_result"
    }
   ],
   "source": [
    "(X_train,Y_train),(X_test,Y_test)=tf.keras.datasets.cifar10.load_data()\n",
    "X_train.shape"
   ]
  },
  {
   "cell_type": "code",
   "execution_count": 5,
   "id": "6a9b7714",
   "metadata": {},
   "outputs": [
    {
     "data": {
      "text/plain": [
       "(10000, 32, 32, 3)"
      ]
     },
     "execution_count": 5,
     "metadata": {},
     "output_type": "execute_result"
    }
   ],
   "source": [
    "X_test.shape"
   ]
  },
  {
   "cell_type": "code",
   "execution_count": 14,
   "id": "678b6f5e",
   "metadata": {},
   "outputs": [
    {
     "data": {
      "text/plain": [
       "array([6, 9, 9, 4, 1], dtype=uint8)"
      ]
     },
     "execution_count": 14,
     "metadata": {},
     "output_type": "execute_result"
    }
   ],
   "source": [
    "Y_train=Y_train.reshape(-1,)\n",
    "Y_train[:5]"
   ]
  },
  {
   "cell_type": "code",
   "execution_count": 11,
   "id": "f8d6e74e",
   "metadata": {},
   "outputs": [],
   "source": [
    "classes=[\"airplane\",\"automobile\",\"bird\",\"cat\",\"deer\",\n",
    "         \"dog\",\"frog\",\"horse\",\"ship\",\"truck\"]\n"
   ]
  },
  {
   "cell_type": "code",
   "execution_count": 15,
   "id": "66c61c54",
   "metadata": {},
   "outputs": [],
   "source": [
    "def plot_sample(X,y,index):\n",
    "    plt.figure(figsize=(15,2))\n",
    "    plt.imshow(X[index])\n",
    "    plt.xlabel(classes[y[index]])"
   ]
  },
  {
   "cell_type": "code",
   "execution_count": 17,
   "id": "45349f0f",
   "metadata": {},
   "outputs": [
    {
     "data": {
      "image/png": "[encoded data removed]",
      "text/plain": [
       "<Figure size 1080x144 with 1 Axes>"
      ]
     },
     "metadata": {
      "needs_background": "light"
     },
     "output_type": "display_data"
    }
   ],
   "source": [
    "plot_sample(X_train,Y_train,0)"
   ]
  },
  {
   "cell_type": "code",
   "execution_count": 19,
   "id": "da0d6b3a",
   "metadata": {},
   "outputs": [],
   "source": [
    "#normalizing pixels by dividing with 255\n",
    "X_train = X_train/255\n",
    "X_test=X_test/255"
   ]
  },
  {
   "cell_type": "code",
   "execution_count": 27,
   "id": "f84977f3",
   "metadata": {},
   "outputs": [],
   "source": [
    "cnn=tf.keras.models.Sequential([\n",
    "    #CNN-1\n",
    "    tf.keras.layers.Conv2D(filters=32,kernel_size=(3,3),\n",
    "                           activation='relu',input_shape=(32,32,3)),\n",
    "    tf.keras.layers.MaxPooling2D((2,2)),\n",
    "    #CNN-2\n",
    "    tf.keras.layers.Conv2D(filters=64,kernel_size=(3,3),activation='relu'),\n",
    "    tf.keras.layers.MaxPooling2D((2,2)),\n",
    "    #dense\n",
    "    tf.keras.layers.Flatten(),\n",
    "    tf.keras.layers.Dense(64,activation=\"relu\"),\n",
    "    tf.keras.layers.Dense(10,activation='softmax')\n",
    "])\n",
    "cnn.compile(optimizer=\"adam\",\n",
    "           loss=\"sparse_categorical_crossentropy\",\n",
    "           metrics=[\"accuracy\"])\n"
   ]
  },
  {
   "cell_type": "code",
   "execution_count": 28,
   "id": "ba426473",
   "metadata": {},
   "outputs": [
    {
     "name": "stdout",
     "output_type": "stream",
     "text": [
      "Epoch 1/10\n",
      "1563/1563 [==============================] - 15s 5ms/step - loss: 1.4545 - accuracy: 0.4755\n",
      "Epoch 2/10\n",
      "1563/1563 [==============================] - 8s 5ms/step - loss: 1.1202 - accuracy: 0.6076\n",
      "Epoch 3/10\n",
      "1563/1563 [==============================] - 8s 5ms/step - loss: 0.9863 - accuracy: 0.6567\n",
      "Epoch 4/10\n",
      "1563/1563 [==============================] - 8s 5ms/step - loss: 0.8965 - accuracy: 0.6860\n",
      "Epoch 5/10\n",
      "1563/1563 [==============================] - 8s 5ms/step - loss: 0.8302 - accuracy: 0.7125\n",
      "Epoch 6/10\n",
      "1563/1563 [==============================] - 9s 5ms/step - loss: 0.7746 - accuracy: 0.7312\n",
      "Epoch 7/10\n",
      "1563/1563 [==============================] - 8s 5ms/step - loss: 0.7245 - accuracy: 0.7502\n",
      "Epoch 8/10\n",
      "1563/1563 [==============================] - 8s 5ms/step - loss: 0.6818 - accuracy: 0.7645\n",
      "Epoch 9/10\n",
      "1563/1563 [==============================] - 9s 5ms/step - loss: 0.6436 - accuracy: 0.7766\n",
      "Epoch 10/10\n",
      "1563/1563 [==============================] - 8s 5ms/step - loss: 0.6147 - accuracy: 0.7848\n"
     ]
    },
    {
     "data": {
      "text/plain": [
       "<tensorflow.python.keras.callbacks.History at 0x1e23c64f040>"
      ]
     },
     "execution_count": 28,
     "metadata": {},
     "output_type": "execute_result"
    }
   ],
   "source": [
    "cnn.fit(X_train,Y_train,epochs=10)"
   ]
  },
  {
   "cell_type": "code",
   "execution_count": 29,
   "id": "7b5682b5",
   "metadata": {},
   "outputs": [
    {
     "name": "stdout",
     "output_type": "stream",
     "text": [
      "313/313 [==============================] - 1s 3ms/step - loss: 0.9321 - accuracy: 0.6910\n"
     ]
    },
    {
     "data": {
      "text/plain": [
       "[0.9320673942565918, 0.6909999847412109]"
      ]
     },
     "execution_count": 29,
     "metadata": {},
     "output_type": "execute_result"
    }
   ],
   "source": [
    "cnn.evaluate(X_test,Y_test)"
   ]
  },
  {
   "cell_type": "code",
   "execution_count": 32,
   "id": "26b2141b",
   "metadata": {},
   "outputs": [
    {
     "data": {
      "text/plain": [
       "array([3, 8, 8, 0, 6], dtype=uint8)"
      ]
     },
     "execution_count": 32,
     "metadata": {},
     "output_type": "execute_result"
    }
   ],
   "source": [
    "Y_test=Y_test.reshape(-1,)\n",
    "Y_test[:5]"
   ]
  },
  {
   "cell_type": "code",
   "execution_count": 33,
   "id": "7d2ac369",
   "metadata": {},
   "outputs": [
    {
     "data": {
      "image/png": "[encoded data removed]",
      "text/plain": [
       "<Figure size 1080x144 with 1 Axes>"
      ]
     },
     "metadata": {
      "needs_background": "light"
     },
     "output_type": "display_data"
    }
   ],
   "source": [
    "plot_sample(X_test,Y_test,1)"
   ]
  },
  {
   "cell_type": "code",
   "execution_count": 34,
   "id": "0a73425d",
   "metadata": {},
   "outputs": [
    {
     "data": {
      "text/plain": [
       "array([[2.2860486e-03, 5.1009679e-06, 1.0750031e-03, 8.8821030e-01,\n",
       "        1.1502830e-03, 7.1591869e-02, 1.3131192e-02, 3.8733505e-04,\n",
       "        2.1827945e-02, 3.3485109e-04],\n",
       "       [8.3002010e-03, 1.8129860e-01, 1.4349108e-06, 5.1623915e-06,\n",
       "        1.8715746e-06, 1.3386648e-07, 5.5600000e-09, 1.3187236e-08,\n",
       "        8.0901247e-01, 1.3800629e-03],\n",
       "       [8.4738389e-02, 1.3996355e-01, 1.1881889e-03, 5.6492095e-03,\n",
       "        1.7738974e-02, 6.1704632e-04, 3.3136195e-05, 5.7187281e-03,\n",
       "        7.2920191e-01, 1.5150875e-02],\n",
       "       [9.6898359e-01, 2.5258397e-03, 1.0210938e-02, 1.3477249e-04,\n",
       "        1.3832687e-02, 2.2720549e-05, 2.5416059e-06, 3.0300682e-04,\n",
       "        3.9573452e-03, 2.6675320e-05],\n",
       "       [4.6424637e-05, 4.7019453e-04, 2.2591883e-02, 2.9767970e-02,\n",
       "        2.9060668e-01, 2.1636921e-03, 6.5397972e-01, 1.0618621e-04,\n",
       "        1.1702359e-04, 1.5022974e-04]], dtype=float32)"
      ]
     },
     "execution_count": 34,
     "metadata": {},
     "output_type": "execute_result"
    }
   ],
   "source": [
    "y_pred=cnn.predict(X_test)\n",
    "y_pred[:5]"
   ]
  },
  {
   "cell_type": "code",
   "execution_count": 35,
   "id": "98b8ec1c",
   "metadata": {},
   "outputs": [
    {
     "data": {
      "text/plain": [
       "[3, 8, 8, 0, 6]"
      ]
     },
     "execution_count": 35,
     "metadata": {},
     "output_type": "execute_result"
    }
   ],
   "source": [
    "y_classes=[np.argmax(element) for element in y_pred]\n",
    "y_classes[:5]"
   ]
  },
  {
   "cell_type": "code",
   "execution_count": 37,
   "id": "09aab527",
   "metadata": {},
   "outputs": [
    {
     "data": {
      "text/plain": [
       "array([3, 8, 8, 0, 6], dtype=uint8)"
      ]
     },
     "execution_count": 37,
     "metadata": {},
     "output_type": "execute_result"
    }
   ],
   "source": [
    "Y_test[:5]"
   ]
  },
  {
   "cell_type": "code",
   "execution_count": 44,
   "id": "fbf5d14d",
   "metadata": {},
   "outputs": [
    {
     "data": {
      "image/png": "[encoded data removed]",
      "text/plain": [
       "<Figure size 1080x144 with 1 Axes>"
      ]
     },
     "metadata": {
      "needs_background": "light"
     },
     "output_type": "display_data"
    }
   ],
   "source": [
    "plot_sample(X_test,Y_test,3)"
   ]
  },
  {
   "cell_type": "code",
   "execution_count": 45,
   "id": "7ab2734f",
   "metadata": {},
   "outputs": [
    {
     "data": {
      "text/plain": [
       "'airplane'"
      ]
     },
     "execution_count": 45,
     "metadata": {},
     "output_type": "execute_result"
    }
   ],
   "source": [
    "classes[y_classes[3]]"
   ]
  },
  {
   "cell_type": "code",
   "execution_count": 46,
   "id": "a17a2722",
   "metadata": {},
   "outputs": [
    {
     "name": "stdout",
     "output_type": "stream",
     "text": [
      "classification report:\n",
      "               precision    recall  f1-score   support\n",
      "\n",
      "           0       0.72      0.76      0.74      1000\n",
      "           1       0.76      0.86      0.81      1000\n",
      "           2       0.54      0.62      0.57      1000\n",
      "           3       0.53      0.46      0.49      1000\n",
      "           4       0.66      0.61      0.63      1000\n",
      "           5       0.65      0.56      0.60      1000\n",
      "           6       0.71      0.78      0.75      1000\n",
      "           7       0.76      0.73      0.74      1000\n",
      "           8       0.82      0.77      0.80      1000\n",
      "           9       0.76      0.77      0.77      1000\n",
      "\n",
      "    accuracy                           0.69     10000\n",
      "   macro avg       0.69      0.69      0.69     10000\n",
      "weighted avg       0.69      0.69      0.69     10000\n",
      "\n"
     ]
    }
   ],
   "source": [
    "from sklearn.metrics import classification_report\n",
    "print(\"classification report:\\n\",classification_report(Y_test,y_classes))"
   ]
  },
  {
   "cell_type": "code",
   "execution_count": null,
   "id": "b566d8ab",
   "metadata": {},
   "outputs": [],
   "source": []
  }
 ],
 "metadata": {
  "kernelspec": {
   "display_name": "Python 3",
   "language": "python",
   "name": "python3"
  },
  "language_info": {
   "codemirror_mode": {
    "name": "ipython",
    "version": 3
   },
   "file_extension": ".py",
   "mimetype": "text/x-python",
   "name": "python",
   "nbconvert_exporter": "python",
   "pygments_lexer": "ipython3",
   "version": "3.8.8"
  }
 },
 "nbformat": 4,
 "nbformat_minor": 5
}
